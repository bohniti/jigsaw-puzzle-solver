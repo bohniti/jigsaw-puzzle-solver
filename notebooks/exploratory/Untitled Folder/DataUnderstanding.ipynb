{
 "cells": [
  {
   "cell_type": "markdown",
   "metadata": {},
   "source": [
    "<center>\n",
    "    <h1>Analysis of the ICFHR 2020 Competition on Image Retrieval for Historical Handwritten Fragments (HisFrag20) Dataset</h1>\n",
    "    <hr>\n",
    "    <br>\n",
    "    <div style=\"margin:0 60px 0px 0\">\n",
    "        <img src=\"./../../readme-head.png\" align=center width=500>\n",
    "    </div>\n",
    "    <h2>Data Understanding for solving a Jigsaw Puzzle of Historical Fragments</h2>\n",
    "    <h3> by Timo Bohnstedt</h3>\n",
    "    <br>\n",
    "</center>\n"
   ]
  },
  {
   "cell_type": "code",
   "execution_count": 1,
   "metadata": {},
   "outputs": [],
   "source": [
    "# import packages\n",
    "from os import listdir, path\n",
    "from os.path import isfile, join, splitext\n",
    "import pandas as pd\n",
    "import matplotlib.pyplot as plt\n",
    "import numpy as np\n",
    "import seaborn as sns\n",
    "from PIL import Image"
   ]
  },
  {
   "cell_type": "code",
   "execution_count": 2,
   "metadata": {},
   "outputs": [],
   "source": [
    "# declare global variables \n",
    "train = \"/Users/beantown/Projekte/Jigsaw-Puzzling/Data/hisfrag20\"\n",
    "test = \"/Users/beantown/Projekte/Jigsaw-Puzzling/Data/hisfrag20_test\""
   ]
  },
  {
   "cell_type": "code",
   "execution_count": 3,
   "metadata": {},
   "outputs": [],
   "source": [
    "# prepare environtment\n",
    "%matplotlib inline"
   ]
  },
  {
   "cell_type": "code",
   "execution_count": 4,
   "metadata": {},
   "outputs": [],
   "source": [
    "# prepare plots\n",
    "\n",
    "from helper_functions import set_size\n",
    "sns.set(style=\"whitegrid\")\n",
    "plt.style.use('seaborn')\n",
    "width = 496.85625"
   ]
  },
  {
   "cell_type": "code",
   "execution_count": 5,
   "metadata": {
    "colab": {},
    "colab_type": "code",
    "id": "YfIk2es3hJEd"
   },
   "outputs": [],
   "source": [
    "def get_info(data_path):\n",
    "    # load file names train dataset\n",
    "    file_names = [splitext(f)[0] for f in listdir(data_path) if isfile(join(data_path, f))]\n",
    "\n",
    "    # load file name test dataset\n",
    "    #file_names_test = [splitext(f)[0] for f in listdir(data_path_test) if isfile(join(data_path_test, f))]\n",
    "\n",
    "    # Split the image naming in wirter, page and fragment\n",
    "    # For training\n",
    "    #file_names_parts = [i.split(\"_\") for i in file_names]\n",
    "    # For test\n",
    "    file_names_parts = [i.split(\"_\") for i in file_names_test]\n",
    "\n",
    "    return pd.DataFrame.from_records(file_names_parts,columns=['writer_id', 'page_id','fragment_id'])\n",
    "\n",
    "df get_info(data_path=test)"
   ]
  },
  {
   "cell_type": "code",
   "execution_count": null,
   "metadata": {},
   "outputs": [],
   "source": []
  },
  {
   "cell_type": "code",
   "execution_count": 7,
   "metadata": {},
   "outputs": [],
   "source": [
    "df.head()"
   ]
  }
 ],
 "metadata": {
  "accelerator": "GPU",
  "colab": {
   "collapsed_sections": [],
   "name": "dcgan.ipynb",
   "private_outputs": true,
   "provenance": [],
   "toc_visible": true
  },
  "kernelspec": {
   "display_name": "Python 3",
   "language": "python",
   "name": "python3"
  },
  "language_info": {
   "codemirror_mode": {
    "name": "ipython",
    "version": 3
   },
   "file_extension": ".py",
   "mimetype": "text/x-python",
   "name": "python",
   "nbconvert_exporter": "python",
   "pygments_lexer": "ipython3",
   "version": "3.8.5"
  },
  "widgets": {
   "application/vnd.jupyter.widget-state+json": {
    "state": {},
    "version_major": 2,
    "version_minor": 0
   }
  }
 },
 "nbformat": 4,
 "nbformat_minor": 4
}
