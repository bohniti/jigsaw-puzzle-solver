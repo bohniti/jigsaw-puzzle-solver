{
 "cells": [
  {
   "cell_type": "markdown",
   "metadata": {},
   "source": [
    "<center>\n",
    "    <h1>Analysis of the ICFHR 2020 Competition on Image Retrieval for Historical Handwritten Fragments (HisFrag20) Dataset</h1>\n",
    "    <hr>\n",
    "    <br>\n",
    "    <div style=\"margin:0 60px 0px 0\">\n",
    "        <img src=\"./../../readme-head.png\" align=center width=500>\n",
    "    </div>\n",
    "    <h2>Data Understanding for solving a Jigsaw Puzzle of Historical Fragments</h2>\n",
    "    <h3> by Timo Bohnstedt</h3>\n",
    "    <br>\n",
    "</center>\n"
   ]
  },
  {
   "cell_type": "markdown",
   "metadata": {},
   "source": [
    "<a name='0'></a>\n",
    "\n",
    "### Outline for this Notebook `(clickable)`\n",
    "\n",
    "1. [Data Distribution](#1) <br>\n",
    "1.1. [Are the IDs meaningful? If not, where can I get more meaningful data?](#1.1) <br>\n",
    "1.2. [How many writers are there?](#1.2) <br>\n",
    "1.3. [How many pages do the autohers have?](#1.3) <br>\n",
    "1.4. [How many fragments are there per page?](#1.3) <br>\n",
    "2. [Image Analysis](#2) <br>\n",
    "2.1. [How large are the fragments?](#1.2) <br>\n",
    "2.2. [How does the work of an writer look like?](#1.3.)<br>\n",
    "2.3. [How does a page of a particular author look like?](#1.3.)<br>\n",
    "2.4. [What does it look like when an image is gradually assembled (GIF)?](#1.3.)<br>\n",
    "2.5. [Optional: Is there any further information, e.g. where the pictures come from?](#1.3.)<br>"
   ]
  },
  {
   "cell_type": "markdown",
   "metadata": {},
   "source": [
    "## 0. Preparation of the Notebook"
   ]
  },
  {
   "cell_type": "code",
   "execution_count": 1,
   "metadata": {},
   "outputs": [],
   "source": [
    "# import packages\n",
    "from os import listdir, path\n",
    "from os.path import isfile, join, splitext\n",
    "import pandas as pd\n",
    "import matplotlib.pyplot as plt\n",
    "import numpy as np\n",
    "import seaborn as sns\n",
    "from PIL import Image\n",
    "\n",
    "# TODO Change code completly to pathlib for crossfunctionality\n",
    "from os import listdir, path\n",
    "from PIL import Image\n",
    "from pathlib import Path\n",
    "from cv2 import imread, copyMakeBorder, imwrite, BORDER_CONSTANT\n",
    "import numpy as np\n",
    "import matplotlib.pyplot as plt\n",
    "import pandas as pd\n",
    "\n",
    "\n",
    "\n",
    "import pandas as pd\n",
    "from os import listdir\n",
    "from os.path import isfile, join, splitext\n",
    "from sklearn.model_selection import GroupShuffleSplit\n",
    "import random\n",
    "import csv\n",
    "\n",
    "# prepare environtment\n",
    "%matplotlib inline\n",
    "\n",
    "# prepare plots\n",
    "from helper_functions import set_size\n",
    "sns.set(style=\"whitegrid\")\n",
    "plt.style.use('seaborn')\n",
    "width = 496.85625"
   ]
  },
  {
   "cell_type": "code",
   "execution_count": 2,
   "metadata": {},
   "outputs": [],
   "source": [
    "# declare global variables \n",
    "data_path = \"/Users/beantown/PycharmProjects/jigsaw-puzzle-solver/data/hisfrag20/raw/hisfrag20\"\n",
    "data_path_test = \"/Users/beantown/PycharmProjects/jigsaw-puzzle-solver/data/hisfrag20/raw/hisfrag20_test\""
   ]
  },
  {
   "cell_type": "code",
   "execution_count": 3,
   "metadata": {
    "colab": {},
    "colab_type": "code",
    "id": "YfIk2es3hJEd"
   },
   "outputs": [],
   "source": [
    "# load file names train dataset\n",
    "file_names = [splitext(f)[0] for f in listdir(data_path) if isfile(join(data_path, f))]\n",
    "\n",
    "# load file name test dataset\n",
    "file_names_test = [splitext(f)[0] for f in listdir(data_path_test) if isfile(join(data_path_test, f))]"
   ]
  },
  {
   "cell_type": "markdown",
   "metadata": {},
   "source": [
    "<a name='1'></a>\n",
    "\n",
    "## 1. Data Distribution\n",
    "\n",
    "<a name='1.1'></a>\n",
    "\n",
    "### 1.1. Are the IDs meaningful? If not, where can I get more meaningful data?\n",
    "\n",
    "\n",
    "The dataset contains a training and a test set with the following image naming-convention: \n",
    "\n",
    "```ruby\n",
    "WID_PID_FID.jpg \n",
    "\n",
    "where \n",
    "WID = writer id\n",
    "PID = page id, \n",
    "FID = fragment id.\n",
    "\n",
    "```\n",
    "\n",
    "The **train set** contains arround **100,000 fragments** using the Historical-IR19 as base dataset, they should all contain some text even some fragments are quite small. The **test set** contains about **20,000** new fragments\n",
    "\n",
    "First, I will print the filename (label) to see wheather or not the label tells something meaninful"
   ]
  },
  {
   "cell_type": "code",
   "execution_count": 4,
   "metadata": {},
   "outputs": [
    {
     "name": "stdout",
     "output_type": "stream",
     "text": [
      "9121_4046_13\n",
      "219_77800500_10553\n"
     ]
    }
   ],
   "source": [
    "# For training\n",
    "print(file_names[0])\n",
    "\n",
    "# For test\n",
    "print(file_names_test[0])"
   ]
  },
  {
   "cell_type": "markdown",
   "metadata": {},
   "source": [
    "As can be seen the IDs are just IDs. Some reasrch has shown that is up to now not possible to get more information about the writer. But we can cange an save the name such that it is more meaninfull in terms of the nameing convention."
   ]
  },
  {
   "cell_type": "markdown",
   "metadata": {},
   "source": [
    "<a name='1.2'></a>\n",
    "### 1.2. How many writers are there?"
   ]
  },
  {
   "cell_type": "code",
   "execution_count": 5,
   "metadata": {},
   "outputs": [],
   "source": [
    "# Split the image naming in wirter, page and fragment\n",
    "# For training\n",
    "file_names_parts = [i.split(\"_\") for i in file_names]\n",
    "# For test\n",
    "file_names_test_parts = [i.split(\"_\") for i in file_names_test]"
   ]
  },
  {
   "cell_type": "code",
   "execution_count": 6,
   "metadata": {},
   "outputs": [
    {
     "name": "stdout",
     "output_type": "stream",
     "text": [
      "Within the train dataset there are 8717 unique writers\n"
     ]
    }
   ],
   "source": [
    "# For training\n",
    "df = pd.DataFrame.from_records(file_names_parts,columns=['writer_id', 'page_id','fragment_id'])\n",
    "print('Within the train dataset there are {} unique writers'.format(df.nunique()[0])) "
   ]
  },
  {
   "cell_type": "code",
   "execution_count": 7,
   "metadata": {},
   "outputs": [
    {
     "name": "stdout",
     "output_type": "stream",
     "text": [
      "Within the test dataset there are 1152 unique writers\n"
     ]
    }
   ],
   "source": [
    "# For test\n",
    "df_test = pd.DataFrame.from_records(file_names_test_parts,columns=['writer_id', 'page_id','fragment_id'])\n",
    "print('Within the test dataset there are {} unique writers'.format(df_test.nunique()[0]))"
   ]
  },
  {
   "cell_type": "code",
   "execution_count": 8,
   "metadata": {},
   "outputs": [
    {
     "data": {
      "text/html": [
       "<div>\n",
       "<style scoped>\n",
       "    .dataframe tbody tr th:only-of-type {\n",
       "        vertical-align: middle;\n",
       "    }\n",
       "\n",
       "    .dataframe tbody tr th {\n",
       "        vertical-align: top;\n",
       "    }\n",
       "\n",
       "    .dataframe thead th {\n",
       "        text-align: right;\n",
       "    }\n",
       "</style>\n",
       "<table border=\"1\" class=\"dataframe\">\n",
       "  <thead>\n",
       "    <tr style=\"text-align: right;\">\n",
       "      <th></th>\n",
       "      <th>writer_id</th>\n",
       "      <th>page_id</th>\n",
       "      <th>fragment_id</th>\n",
       "    </tr>\n",
       "  </thead>\n",
       "  <tbody>\n",
       "    <tr>\n",
       "      <th>0</th>\n",
       "      <td>9121</td>\n",
       "      <td>4046</td>\n",
       "      <td>13</td>\n",
       "    </tr>\n",
       "    <tr>\n",
       "      <th>1</th>\n",
       "      <td>10806</td>\n",
       "      <td>14265</td>\n",
       "      <td>19</td>\n",
       "    </tr>\n",
       "    <tr>\n",
       "      <th>2</th>\n",
       "      <td>11018</td>\n",
       "      <td>9037</td>\n",
       "      <td>2</td>\n",
       "    </tr>\n",
       "    <tr>\n",
       "      <th>3</th>\n",
       "      <td>8814</td>\n",
       "      <td>2442</td>\n",
       "      <td>8</td>\n",
       "    </tr>\n",
       "    <tr>\n",
       "      <th>4</th>\n",
       "      <td>8562</td>\n",
       "      <td>14999</td>\n",
       "      <td>5</td>\n",
       "    </tr>\n",
       "  </tbody>\n",
       "</table>\n",
       "</div>"
      ],
      "text/plain": [
       "  writer_id page_id fragment_id\n",
       "0      9121    4046          13\n",
       "1     10806   14265          19\n",
       "2     11018    9037           2\n",
       "3      8814    2442           8\n",
       "4      8562   14999           5"
      ]
     },
     "execution_count": 8,
     "metadata": {},
     "output_type": "execute_result"
    }
   ],
   "source": [
    "df.head()"
   ]
  },
  {
   "cell_type": "markdown",
   "metadata": {},
   "source": [
    "<a name='1.3'></a>\n",
    "### 1.3. How many pages do the writers have?"
   ]
  },
  {
   "cell_type": "code",
   "execution_count": 9,
   "metadata": {},
   "outputs": [
    {
     "name": "stdout",
     "output_type": "stream",
     "text": [
      "mean = 1.98\n",
      "median = 1.00\n",
      "mu = 1.61\n",
      "max_pages = 5.00\n",
      "min_pages = 1.00\n",
      "\n"
     ]
    }
   ],
   "source": [
    "pages_per_writer = df.groupby('writer_id')['page_id'].nunique()\n",
    "mean = pages_per_writer.mean()\n",
    "median = pages_per_writer.median()\n",
    "mu = pages_per_writer.std()\n",
    "max_pages = pages_per_writer.max()\n",
    "min_pages = pages_per_writer.min()\n",
    "print(f'{mean = :.2f}\\n{median = :.2f}\\n{mu = :.2f}\\n{max_pages = :.2f}\\n{min_pages = :.2f}\\n')"
   ]
  },
  {
   "cell_type": "code",
   "execution_count": 17,
   "metadata": {},
   "outputs": [
    {
     "data": {
      "image/png": "[encoded data removed]",
      "text/plain": [
       "<Figure size 1512x648 with 1 Axes>"
      ]
     },
     "metadata": {},
     "output_type": "display_data"
    }
   ],
   "source": [
    "sns.set_theme(style=\"ticks\")\n",
    "\n",
    "f, ax = plt.subplots(figsize=(21, 9))\n",
    "sns.despine(f)\n",
    "\n",
    "sns.histplot(\n",
    "    df,\n",
    "    x=\"writer_id\",\n",
    "    palette=\"light:m_r\",\n",
    "    bins=129,\n",
    "    kde=False,\n",
    "    label='Train',\n",
    "    color='gray'\n",
    ")\n",
    "\n",
    "sns.histplot(\n",
    "    df_test,\n",
    "    x=\"writer_id\",\n",
    "    palette=\"light:m_r\",\n",
    "    bins=129,\n",
    "    kde=False,\n",
    "    label='Test',\n",
    "    color='red'\n",
    ")\n",
    "\n",
    "\n",
    "plt.legend(prop={'size': 12})\n",
    "plt.title('Life Expectancy of Two Continents')\n",
    "plt.xlabel('Life Exp (years)')\n",
    "plt.ylabel('Density')\n",
    "plt.show()\n",
    "\n",
    "\n",
    "#ax.xaxis.set_major_formatter(mpl.ticker.ScalarFormatter())\n",
    "#ax.set_xticks([500, 1000, 2000, 5000, 10000])"
   ]
  },
  {
   "cell_type": "code",
   "execution_count": 19,
   "metadata": {},
   "outputs": [
    {
     "name": "stderr",
     "output_type": "stream",
     "text": [
      "<ipython-input-19-4ec727cdf241>:1: MatplotlibDeprecationWarning: savefig() got unexpected keyword argument \"cmap\" which is no longer supported as of 3.3 and will become an error two minor releases later\n",
      "  f.savefig('./figures/distribution.svg', format='svg', bbox_inches='tight',cmap='gray')\n"
     ]
    }
   ],
   "source": [
    "f.savefig('./figures/distribution.svg', format='svg', bbox_inches='tight',cmap='gray')"
   ]
  },
  {
   "cell_type": "markdown",
   "metadata": {},
   "source": [
    "<a name='1.4'></a>\n",
    "### 1.4. How many fragments are there per page?"
   ]
  },
  {
   "cell_type": "code",
   "execution_count": null,
   "metadata": {},
   "outputs": [],
   "source": [
    "fragments_per_page = df.groupby('page_id')['fragment_id'].nunique()\n",
    "mean = fragments_per_page.mean()\n",
    "median = fragments_per_page.median()\n",
    "mu = fragments_per_page.std()\n",
    "max_pages = fragments_per_page.max()\n",
    "min_pages = fragments_per_page.min()\n",
    "print(f'{mean = :.2f}\\n{median = :.2f}\\n{mu = :.2f}\\n{max_pages = :.2f}\\n{min_pages = :.2f}\\n')"
   ]
  },
  {
   "cell_type": "markdown",
   "metadata": {},
   "source": [
    "<a name='2'></a>\n",
    "\n",
    "## 2. Image Analysis\n",
    "\n",
    "<a name='2.1'></a>\n",
    "### 2.1. How large are the fragments?"
   ]
  },
  {
   "cell_type": "code",
   "execution_count": null,
   "metadata": {},
   "outputs": [],
   "source": [
    "sns.set(style=\"white\")\n",
    "fig = plt.figure(figsize=(21, 21))\n",
    "fig.tight_layout(pad=0.4, w_pad=5, h_pad=2)\n",
    "columns = 3\n",
    "rows = 3\n",
    "\n",
    "# ax enables access to manipulate each of subplots\n",
    "ax = []\n",
    "\n",
    "for i in range(columns*rows):\n",
    "    # define filename\n",
    "    filename = data_path +'/' + file_names[i] + '.jpg'\n",
    "    img = Image.open(filename)\n",
    "    # create subplot and append to ax\n",
    "    ax.append( fig.add_subplot(rows, columns, i+1) )\n",
    "    # set title\n",
    "    ax[-1].set_title('wrtiter: '+file_names_parts[i][0] +'\\n' + 'page: '+file_names_parts[i][1] + '\\n' + \n",
    "    'fragment: '+file_names_parts[i][2])  \n",
    "    #plot the img\n",
    "    plt.imshow(img)\n",
    "\n",
    "plt.show()  # finally, render the plot"
   ]
  },
  {
   "cell_type": "markdown",
   "metadata": {},
   "source": [
    "<a name='2.2'></a>\n",
    "### 2.2. How does the work of a writer look like?"
   ]
  },
  {
   "cell_type": "code",
   "execution_count": null,
   "metadata": {},
   "outputs": [],
   "source": [
    "# get a random writer which has three pages\n",
    "writers_w_three_pages = pages_per_writer[pages_per_writer ==3]\n",
    "rand_writer = writers_w_three_pages.to_frame().sample().index[0]\n",
    "print(rand_writer)"
   ]
  },
  {
   "cell_type": "code",
   "execution_count": null,
   "metadata": {},
   "outputs": [],
   "source": [
    "# get df with writers work items\n",
    "writer_df = df[df['writer_id'] == rand_writer]\n",
    "writer_df = writer_df.astype(int)\n",
    "writer_df = writer_df.sort_values(['page_id','fragment_id'])"
   ]
  },
  {
   "cell_type": "code",
   "execution_count": null,
   "metadata": {},
   "outputs": [],
   "source": [
    "# drop writer coll because it it not neccesary\n",
    "writer_df = writer_df.drop(['writer_id'], axis=1)"
   ]
  },
  {
   "cell_type": "code",
   "execution_count": null,
   "metadata": {},
   "outputs": [],
   "source": [
    "# drop writer and add a col for coll id (row id = fragment_id)\n",
    "_,idx = np.unique(writer_df['page_id'],return_inverse=True) \n",
    "writer_df['col_id'] = idx\n",
    "writer_df['row_id'] = df['fragment_id']\n",
    "writer_df = writer_df.set_index(['col_id','row_id'])\n"
   ]
  },
  {
   "cell_type": "code",
   "execution_count": null,
   "metadata": {},
   "outputs": [],
   "source": [
    "# get value of nrows by the number of fragments\n",
    "nrows = writer_df['fragment_id'].max() +1\n",
    "print(nrows)"
   ]
  },
  {
   "cell_type": "code",
   "execution_count": null,
   "metadata": {},
   "outputs": [],
   "source": [
    "ncols = 3  # array of sub-plots\n",
    "figsize = [21, nrows * 7]     # figure size, inches"
   ]
  },
  {
   "cell_type": "code",
   "execution_count": null,
   "metadata": {},
   "outputs": [],
   "source": [
    "# create figure (fig), and array of axes (ax)\n",
    "fig, ax = plt.subplots(nrows=nrows, ncols=ncols, figsize=figsize)\n",
    "fig.tight_layout(pad=0.4, w_pad=5, h_pad=2)\n",
    "\n",
    "for i, axi in enumerate(ax.flat):\n",
    "    # get indices of row/column\n",
    "    rowid = i // ncols\n",
    "    colid = i % ncols\n",
    "    current_row = writer_df.query(\"col_id == {} and row_id == '{}'\".format(colid,rowid))\n",
    "    try:\n",
    "        current_page = current_row['page_id'].astype(str).values[0]\n",
    "        current_fragment = current_row['fragment_id'].astype(str).values[0]\n",
    "        filename = data_path +'/' + rand_writer + '_' + current_page + '_' + current_fragment + '.jpg'\n",
    "        img = Image.open(filename)    \n",
    "        axi.imshow(img)\n",
    "        # write row/col indices as axes' title for identification\n",
    "        axi.set_title('Writer: {}\\nPage: {}\\n Fragment: {}'.format(rand_writer,current_page,current_fragment))\n",
    "    except:\n",
    "        axi.set_visible(False)\n",
    "        \n",
    "plt.show()\n",
    "\n",
    "fig.savefig('readme-data.svg', format='svg', bbox_inches='tight',cmap='gray')"
   ]
  },
  {
   "cell_type": "markdown",
   "metadata": {},
   "source": [
    "# Analaysis of the size"
   ]
  },
  {
   "cell_type": "code",
   "execution_count": null,
   "metadata": {},
   "outputs": [],
   "source": [
    "train_path = '/Users/beantown/PycharmProjects/jigsaw-puzzle-solver/data/hisfrag20/raw/hisfrag20/'\n",
    "test_path = '/Users/beantown/PycharmProjects/jigsaw-puzzle-solver/data/hisfrag20/raw/hisfrag20_test/'\n",
    "\n",
    "def get_filenames(train_path, test_path):\n",
    "    # load file names train dataset\n",
    "    train = [path.splitext(f)[0] for f in listdir(train_path) if path.isfile(path.join(train_path, f))]\n",
    "\n",
    "    # load file name test dataset\n",
    "    test = [path.splitext(f)[0] for f in listdir(test_path) if path.isfile(path.join(test_path, f))]\n",
    "    \n",
    "    return train, test"
   ]
  },
  {
   "cell_type": "code",
   "execution_count": null,
   "metadata": {},
   "outputs": [],
   "source": [
    "def get_imgsize(train_filenames, test_filenames, train_path, test_path):\n",
    "    train = [Image.open(train_path + f + '.jpg', 'r').size for f in train_filenames]\n",
    "    test = [Image.open(test_path + f + '.jpg', 'r').size for f in test_filenames]\n",
    "    return train, test"
   ]
  },
  {
   "cell_type": "code",
   "execution_count": null,
   "metadata": {},
   "outputs": [],
   "source": [
    "train_filenames, test_filenames = get_filenames(train_path, test_path)\n",
    "train_size, test_size = get_imgsize(train_filenames, test_filenames, train_path, test_path)\n",
    "train_size = np.array(train_size)\n",
    "test_size = np.array(test_size)train_df = pd.DataFrame(train_size, columns=['x','y'])\n",
    "test_df = pd.DataFrame(test_size, columns=['x','y'])\n",
    "#print\n",
    "train_df.x.mean()\n",
    "train_df.y.mean()\n",
    "df = pd.concat([test_df, train_df])\n",
    "fig = px.histogram(train_df, x=\"x\", title='Training Data Size x-Axis')\n",
    "fig.show()"
   ]
  },
  {
   "cell_type": "code",
   "execution_count": null,
   "metadata": {},
   "outputs": [],
   "source": [
    "fig = px.box(train_df, x=\"x\", title='Training Data Size x-Axis')\n",
    "fig.show()"
   ]
  },
  {
   "cell_type": "code",
   "execution_count": null,
   "metadata": {},
   "outputs": [],
   "source": [
    "fig = px.box(train_df, x=\"y\", title='Training Data Size y-Axis')\n",
    "fig.show()"
   ]
  },
  {
   "cell_type": "code",
   "execution_count": null,
   "metadata": {},
   "outputs": [],
   "source": [
    "fig = px.histogram(test_df, x=\"x\", title='Test Data Size x-Axis')\n",
    "fig.show()"
   ]
  },
  {
   "cell_type": "code",
   "execution_count": null,
   "metadata": {},
   "outputs": [],
   "source": [
    "fig = px.box(test_df, x=\"x\", title='Test Data Size x-Axis')\n",
    "fig.show()"
   ]
  },
  {
   "cell_type": "code",
   "execution_count": null,
   "metadata": {},
   "outputs": [],
   "source": [
    "fig = px.histogram(test_df, x=\"y\", title='Test Data Size y-Axis')\n",
    "fig.show()"
   ]
  },
  {
   "cell_type": "code",
   "execution_count": null,
   "metadata": {},
   "outputs": [],
   "source": [
    "fig = px.box(test_df, x=\"y\", title='Test Data Size y-Axis')\n",
    "fig.show()"
   ]
  },
  {
   "cell_type": "markdown",
   "metadata": {},
   "source": [
    "# Preproceccing"
   ]
  },
  {
   "cell_type": "code",
   "execution_count": null,
   "metadata": {},
   "outputs": [],
   "source": [
    "train_path = '/Users/beantown/PycharmProjects/jigsaw-puzzle-solver/data/hisfrag20/raw/hisfrag20/'\n",
    "test_path = '/Users/beantown/PycharmProjects/jigsaw-puzzle-solver/data/hisfrag20/raw/hisfrag20_test/'\n",
    "result_path = '/Users/beantown/PycharmProjects/jigsaw-puzzle-solver/data/hisfrag20/prepared/paris_as_csv/'"
   ]
  },
  {
   "cell_type": "code",
   "execution_count": null,
   "metadata": {},
   "outputs": [],
   "source": [
    "def get_info(data_path):\n",
    "    '''Helper Method which provids the path onto you local machine and the fragment ID, such that pairs can be created'''\n",
    "    # load file names train dataset\n",
    "    file_names = [splitext(f)[0] for f in listdir(data_path) if isfile(join(data_path, f))]\n",
    "\n",
    "    # load file name test dataset\n",
    "    #file_names_test = [splitext(f)[0] for f in listdir(data_path_test) if isfile(join(data_path_test, f))]\n",
    "\n",
    "    # Split the image naming in wirter, page and fragment\n",
    "    # For training\n",
    "    #file_names_parts = [i.split(\"_\") for i in file_names]\n",
    "    # For test\n",
    "    file_names_parts = [i.split(\"_\") for i in file_names]\n",
    "    df = pd.DataFrame.from_records(file_names_parts,columns=['writer_id', 'ID_of_original_papyrus','fragment_id'])\n",
    "    df['path_to_fragment_image'] = file_names\n",
    "    df['path_to_fragment_image'] = data_path +  df['path_to_fragment_image'].astype(str)\n",
    "    return df[['path_to_fragment_image', 'ID_of_original_papyrus']]\n",
    "\n",
    "df = get_info(data_path=train_path)"
   ]
  },
  {
   "cell_type": "code",
   "execution_count": null,
   "metadata": {},
   "outputs": [],
   "source": [
    "gs = GroupShuffleSplit(n_splits=2, test_size=.2, random_state=0)\n",
    "train_idx, val_idx = next(gs.split(df, groups=df.ID_of_original_papyrus))"
   ]
  },
  {
   "cell_type": "code",
   "execution_count": null,
   "metadata": {},
   "outputs": [],
   "source": [
    "train = df.loc[train_idx]\n",
    "val = df.loc[val_idx]"
   ]
  },
  {
   "cell_type": "code",
   "execution_count": null,
   "metadata": {},
   "outputs": [],
   "source": [
    "train.ID_of_original_papyrus.isin(val.ID_of_original_papyrus).any()\n",
    "test = get_info(data_path=test_path)"
   ]
  },
  {
   "cell_type": "code",
   "execution_count": null,
   "metadata": {},
   "outputs": [],
   "source": [
    "train.ID_of_original_papyrus.isin(test.ID_of_original_papyrus).any()\n",
    "val.ID_of_original_papyrus.isin(test.ID_of_original_papyrus).any()"
   ]
  },
  {
   "cell_type": "code",
   "execution_count": null,
   "metadata": {},
   "outputs": [],
   "source": [
    "def sample_pairs(K, data, IDList):\n",
    "    \"\"\"\n",
    "    used from: https://github.com/plnicolas/master-thesis/blob/master/Papy-S-Net/PairGenerator.py\n",
    "    Function to create fragment pairs given a Pandas DataFrame and a list of IDs.\n",
    "    Parameters:\n",
    "    ----------\n",
    "        - K: The number of pairs of each type (positive and negative) to sample. Duplicates will be dropped,\n",
    "        so the final number of pairs WILL be smaller than 2K\n",
    "        - Data: Pandas DataFrame with rows of the form [path_to_fragment_image, ID_of_original_papyrus]\n",
    "        - IDList: List containing the IDs of the papyri to sample fragments from\n",
    "    Returns:\n",
    "    --------\n",
    "        - pairs: A list of fragment pairs, of the form [path_to_frag1, path_to_frag2]\n",
    "        - labels: A list of labels, i.e. original papyrus IDs\n",
    "    \"\"\"\n",
    "\n",
    "    pairs = []\n",
    "    labels = []\n",
    "\n",
    "    # For each papyrus used for training\n",
    "    for index in IDList:\n",
    "        isIndex = data.iloc[:, 1] == index\n",
    "        isNotIndex = data.iloc[:, 1] != index\n",
    "        # List of images from the indexed papyrus\n",
    "        indexTrueList = data[isIndex].iloc[:, 0]\n",
    "        # List of images NOT from the indexed papyrus\n",
    "        indexFalseList = data[isNotIndex].iloc[:, 0]\n",
    "\n",
    "        # K negative pairs\n",
    "        p1List = indexTrueList.sample(n=K, replace=True, random_state=356)\n",
    "        p2List = indexFalseList.sample(n=K, replace=True, random_state=323)\n",
    "        for k in range(K):\n",
    "            pair = [p1List.values[k], p2List.values[k]]\n",
    "            if pair not in pairs:\n",
    "                pairs.append(pair)\n",
    "                labels.append(1)\n",
    "\n",
    "        # K positive pairs\n",
    "        p1List = indexTrueList.sample(n=K, replace=True, random_state=362)\n",
    "        p2List = indexTrueList.sample(n=K, replace=True, random_state=316)\n",
    "        for k in range(K):\n",
    "            pair = [p1List.values[k], p2List.values[k]]\n",
    "            if pair not in pairs:\n",
    "                pairs.append(pair)\n",
    "                labels.append(0)\n",
    "\n",
    "    # Shuffle the pairs and label lists before returning them\n",
    "    # The two lists are shuffled at once with the same order, of course\n",
    "    tmp = list(zip(pairs, labels))\n",
    "    random.shuffle(tmp)\n",
    "    pairs, labels = zip(*tmp)\n",
    "\n",
    "    return pairs, labels"
   ]
  },
  {
   "cell_type": "code",
   "execution_count": null,
   "metadata": {},
   "outputs": [],
   "source": [
    "X_train, y_train = sample_pairs(K=2, data=train, IDList=train.ID_of_original_papyrus.unique())\n",
    "X_val, y_val = sample_pairs(K=2, data=val, IDList=val.ID_of_original_papyrus.unique())\n",
    "X_test, y_test = sample_pairs(K=2, data=test, IDList=test.ID_of_original_papyrus.unique())\n",
    "\n",
    "train = pd.DataFrame(X_train)\n",
    "train['y'] = y_train\n",
    "#train.to_csv(result_path + 'train.csv', index=False)\n",
    "\n",
    "val = pd.DataFrame(X_val)\n",
    "val['y'] = y_val\n",
    "#val.to_csv(result_path + 'val.csv', index=False)\n",
    "\n",
    "test = pd.DataFrame(X_test)\n",
    "test['y'] = y_test\n",
    "test.to_csv(result_path + 'test.csv', index=False)"
   ]
  }
 ],
 "metadata": {
  "accelerator": "GPU",
  "colab": {
   "collapsed_sections": [],
   "name": "dcgan.ipynb",
   "private_outputs": true,
   "provenance": [],
   "toc_visible": true
  },
  "kernelspec": {
   "display_name": "Python 3",
   "language": "python",
   "name": "python3"
  },
  "language_info": {
   "codemirror_mode": {
    "name": "ipython",
    "version": 3
   },
   "file_extension": ".py",
   "mimetype": "text/x-python",
   "name": "python",
   "nbconvert_exporter": "python",
   "pygments_lexer": "ipython3",
   "version": "3.8.5"
  },
  "widgets": {
   "application/vnd.jupyter.widget-state+json": {
    "state": {},
    "version_major": 2,
    "version_minor": 0
   }
  }
 },
 "nbformat": 4,
 "nbformat_minor": 4
}
