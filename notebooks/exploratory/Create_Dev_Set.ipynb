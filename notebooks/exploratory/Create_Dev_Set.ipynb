{
 "cells": [
  {
   "cell_type": "code",
   "execution_count": 20,
   "id": "5744ed4b-2219-466c-94eb-271be334a885",
   "metadata": {},
   "outputs": [],
   "source": [
    "import pandas as pd\n",
    "from os import listdir\n",
    "from os.path import isfile, join, splitext\n",
    "from sklearn.model_selection import GroupShuffleSplit, train_test_split\n",
    "import random\n",
    "import csv"
   ]
  },
  {
   "cell_type": "code",
   "execution_count": 21,
   "id": "7997d420-b3d7-4388-a069-6da9e193ca75",
   "metadata": {},
   "outputs": [],
   "source": [
    "data_path = '/Users/beantown/PycharmProjects/jigsaw-puzzle-solver/data/hisfrag20/prepared/paris_as_csv/'"
   ]
  },
  {
   "cell_type": "code",
   "execution_count": 22,
   "id": "b6683330-64ba-4313-845e-9eab02d8518a",
   "metadata": {},
   "outputs": [],
   "source": [
    "df = pd.read_csv(data_path + 'train.csv')"
   ]
  },
  {
   "cell_type": "code",
   "execution_count": 23,
   "id": "6d437fd9-fe69-40bf-9144-84daa28b9418",
   "metadata": {},
   "outputs": [],
   "source": [
    "dev_df = df.sample(n=20)"
   ]
  },
  {
   "cell_type": "code",
   "execution_count": 27,
   "id": "b781a5a0-9eb9-4738-8af2-0cb1c54718a2",
   "metadata": {},
   "outputs": [],
   "source": [
    "dev_train, dev_val = train_test_split(dev_df, train_size=0.8)"
   ]
  },
  {
   "cell_type": "code",
   "execution_count": 28,
   "id": "df748c0f-06b9-49da-be48-523ef79a8897",
   "metadata": {},
   "outputs": [
    {
     "data": {
      "text/plain": [
       "(16, 3)"
      ]
     },
     "execution_count": 28,
     "metadata": {},
     "output_type": "execute_result"
    }
   ],
   "source": [
    "dev_train.shape"
   ]
  },
  {
   "cell_type": "code",
   "execution_count": 29,
   "id": "f3039e78-ac87-42fb-8249-74777c7244f0",
   "metadata": {},
   "outputs": [
    {
     "data": {
      "text/plain": [
       "(4, 3)"
      ]
     },
     "execution_count": 29,
     "metadata": {},
     "output_type": "execute_result"
    }
   ],
   "source": [
    "dev_val.shape"
   ]
  },
  {
   "cell_type": "code",
   "execution_count": 30,
   "id": "6d204a2c-58d2-4ea4-bd3d-a630e80f29d4",
   "metadata": {},
   "outputs": [],
   "source": [
    "dev_train.to_csv(data_path + 'dev_train.csv', index=False)\n",
    "dev_val.to_csv(data_path + 'dev_val.csv', index=False)"
   ]
  },
  {
   "cell_type": "code",
   "execution_count": null,
   "id": "31a1107b-6a46-4753-90ab-97894c205a25",
   "metadata": {},
   "outputs": [],
   "source": []
  }
 ],
 "metadata": {
  "kernelspec": {
   "display_name": "PuzzleSolver",
   "language": "python",
   "name": "puzzlesolver"
  },
  "language_info": {
   "codemirror_mode": {
    "name": "ipython",
    "version": 3
   },
   "file_extension": ".py",
   "mimetype": "text/x-python",
   "name": "python",
   "nbconvert_exporter": "python",
   "pygments_lexer": "ipython3",
   "version": "3.8.10"
  },
  "widgets": {
   "application/vnd.jupyter.widget-state+json": {
    "state": {},
    "version_major": 2,
    "version_minor": 0
   }
  }
 },
 "nbformat": 4,
 "nbformat_minor": 5
}
