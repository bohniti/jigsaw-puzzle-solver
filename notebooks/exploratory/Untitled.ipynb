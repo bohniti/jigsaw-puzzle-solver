{
 "cells": [
  {
   "cell_type": "code",
   "execution_count": 5,
   "id": "b33a251c-e5f0-4dad-98bb-6c699e07a628",
   "metadata": {},
   "outputs": [],
   "source": [
    "import pandas as pd"
   ]
  },
  {
   "cell_type": "code",
   "execution_count": 6,
   "id": "c2e26c20-f571-4c92-acd5-be78bb39c42d",
   "metadata": {},
   "outputs": [],
   "source": [
    "base = '/Users/beantown/PycharmProjects/jigsaw-puzzle-solver/data/hisfrag20/prepared/paris_as_csv/'\n",
    "train = pd.read_csv(base + 'train.csv')\n",
    "test = pd.read_csv(base + 'test.csv')\n",
    "val = pd.read_csv(base + 'val.csv')\n",
    "dev_val = pd.read_csv(base + 'dev_val.csv')\n",
    "dev_train = pd.read_csv(base + 'dev_train.csv')\n",
    "\n",
    "\n",
    "df_list = [train,test,val,train,dev_val,dev_train]\n",
    "names = ['train','test','val','train','dev_val','dev_train']"
   ]
  },
  {
   "cell_type": "code",
   "execution_count": 12,
   "id": "53348f9f-357d-4080-b291-851b71ca67f6",
   "metadata": {},
   "outputs": [],
   "source": [
    "for i, df in enumerate(df_list):\n",
    "    df['0'] = df['0'].str.replace('/Users/beantown/PycharmProjects/jigsaw-puzzle-solver',\".\")\n",
    "    df['1'] = df['1'].str.replace('/Users/beantown/PycharmProjects/jigsaw-puzzle-solver',\".\")\n",
    "    df.to_csv(base + names[i] + '.csv')"
   ]
  },
  {
   "cell_type": "code",
   "execution_count": null,
   "id": "e276ba4c-edb1-4c2f-b6a9-01e0bd5f128d",
   "metadata": {},
   "outputs": [],
   "source": []
  }
 ],
 "metadata": {
  "kernelspec": {
   "display_name": "PuzzleSolver",
   "language": "python",
   "name": "puzzlesolver"
  },
  "language_info": {
   "codemirror_mode": {
    "name": "ipython",
    "version": 3
   },
   "file_extension": ".py",
   "mimetype": "text/x-python",
   "name": "python",
   "nbconvert_exporter": "python",
   "pygments_lexer": "ipython3",
   "version": "3.8.10"
  },
  "widgets": {
   "application/vnd.jupyter.widget-state+json": {
    "state": {},
    "version_major": 2,
    "version_minor": 0
   }
  }
 },
 "nbformat": 4,
 "nbformat_minor": 5
}
